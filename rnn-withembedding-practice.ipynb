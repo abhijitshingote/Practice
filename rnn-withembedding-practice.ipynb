{
 "cells": [
  {
   "cell_type": "code",
   "execution_count": 195,
   "metadata": {
    "collapsed": true
   },
   "outputs": [],
   "source": [
    "import tensorflow as tf\n",
    "import numpy as np"
   ]
  },
  {
   "cell_type": "code",
   "execution_count": 196,
   "metadata": {
    "collapsed": true
   },
   "outputs": [],
   "source": [
    "# Get Data\n",
    "g=open('sentiment-network/reviews.txt','r')\n",
    "text=g.read()"
   ]
  },
  {
   "cell_type": "code",
   "execution_count": 197,
   "metadata": {
    "collapsed": false
   },
   "outputs": [],
   "source": [
    "#Remove punctuation\n",
    "from string import punctuation\n",
    "text=[eachchar for eachchar in text if eachchar not in punctuation]\n",
    "text=''.join(text)"
   ]
  },
  {
   "cell_type": "code",
   "execution_count": 198,
   "metadata": {
    "collapsed": true
   },
   "outputs": [],
   "source": [
    "allwords=text.replace('\\n',' ')\n",
    "reviews=text.split('\\n')\n",
    "reviews=[review.split(' ') for review in reviews]"
   ]
  },
  {
   "cell_type": "code",
   "execution_count": 199,
   "metadata": {
    "collapsed": false
   },
   "outputs": [],
   "source": [
    "# Convert words to integers\n",
    "def word_to_int(text):\n",
    "    uniqwords=set(text.split(' '))\n",
    "    vocab_to_int={word:index for index,word in enumerate(uniqwords)}\n",
    "    int_to_vocab={index:word for index,word in enumerate(uniqwords)}\n",
    "    return vocab_to_int,int_to_vocab\n",
    "vocab_to_int,int_to_vocab=word_to_int(allwords)"
   ]
  },
  {
   "cell_type": "code",
   "execution_count": 200,
   "metadata": {
    "collapsed": false
   },
   "outputs": [],
   "source": [
    "reviews_ints=[]\n",
    "for review in reviews:\n",
    "    reviews_ints.append([vocab_to_int[word] for word in review])\n",
    "    \n",
    "reviews_ints=np.array([review[:50] for review in reviews_ints if len(review) >1 ])"
   ]
  },
  {
   "cell_type": "code",
   "execution_count": 201,
   "metadata": {
    "collapsed": true
   },
   "outputs": [],
   "source": [
    "labeldata=open('sentiment-network/labels.txt','r')"
   ]
  },
  {
   "cell_type": "code",
   "execution_count": 202,
   "metadata": {
    "collapsed": false
   },
   "outputs": [],
   "source": [
    "labeldata=labeldata.read()\n",
    "labeldata=labeldata.split('\\n')\n",
    "labeldata=[1 if label=='positive' else 0 for label in labeldata]\n",
    "labeldata=np.array(labeldata[:25000])\n"
   ]
  },
  {
   "cell_type": "code",
   "execution_count": 203,
   "metadata": {
    "collapsed": false
   },
   "outputs": [],
   "source": [
    "def get_batches(x,y,batchsize=100):\n",
    "    num_batches=len(x)//batchsize\n",
    "    x=x[:batchsize*num_batches]\n",
    "    y=y[:batchsize*num_batches]\n",
    "    for i in range(0,len(x),batchsize):\n",
    "        yield x[i:i+batchsize],y[i:i+batchsize]"
   ]
  },
  {
   "cell_type": "code",
   "execution_count": 205,
   "metadata": {
    "collapsed": false
   },
   "outputs": [],
   "source": [
    "# Build Graph\n",
    "graph=tf.Graph()\n",
    "with graph.as_default():\n",
    "    #REVIEW why shape is None,None\n",
    "    inputs=tf.placeholder(tf.int32,shape=[None,None],name='inputs')\n",
    "    labels=tf.placeholder(tf.int32,shape=[None,None],name='labels')\n",
    "    keep_prob=tf.placeholder(tf.float32,name='keep_prob')\n",
    "    \n",
    "#Embedding\n",
    "    embed_size=300\n",
    "    embedding=tf.Variable(expected_shape=tf.random_uniform(len(vocab_to_int),embed_size))\n",
    "    embed=tf.nn.embedding_lookup(embedding, inputs)"
   ]
  },
  {
   "cell_type": "code",
   "execution_count": null,
   "metadata": {
    "collapsed": true
   },
   "outputs": [],
   "source": []
  }
 ],
 "metadata": {
  "kernelspec": {
   "display_name": "Python [conda env:newenv]",
   "language": "python",
   "name": "conda-env-newenv-py"
  },
  "language_info": {
   "codemirror_mode": {
    "name": "ipython",
    "version": 3
   },
   "file_extension": ".py",
   "mimetype": "text/x-python",
   "name": "python",
   "nbconvert_exporter": "python",
   "pygments_lexer": "ipython3",
   "version": "3.5.3"
  }
 },
 "nbformat": 4,
 "nbformat_minor": 2
}
