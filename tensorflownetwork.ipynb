{
 "cells": [
  {
   "cell_type": "code",
   "execution_count": 183,
   "metadata": {
    "collapsed": false
   },
   "outputs": [],
   "source": [
    "import tensorflow as tf"
   ]
  },
  {
   "cell_type": "code",
   "execution_count": 184,
   "metadata": {
    "collapsed": false
   },
   "outputs": [
    {
     "name": "stdout",
     "output_type": "stream",
     "text": [
      "Extracting ./train-images-idx3-ubyte.gz\n",
      "Extracting ./train-labels-idx1-ubyte.gz\n",
      "Extracting ./t10k-images-idx3-ubyte.gz\n",
      "Extracting ./t10k-labels-idx1-ubyte.gz\n"
     ]
    }
   ],
   "source": [
    "from tensorflow.examples.tutorials.mnist import input_data\n",
    "mnist = input_data.read_data_sets(\".\", one_hot=True, reshape=False)\n",
    "\n",
    "testdata=mnist.test.images\n",
    "testlabels=mnist.test.labels"
   ]
  },
  {
   "cell_type": "code",
   "execution_count": 185,
   "metadata": {
    "collapsed": true
   },
   "outputs": [],
   "source": [
    "# parameters\n",
    "learning_rate = 0.00001\n",
    "epochs = 10\n",
    "batch_size = 128\n",
    "\n",
    "# number of samples to calculate validation and accuracy\n",
    "# decrease this if you're running out of memory\n",
    "test_valid_size = 256\n",
    "\n",
    "# network Parameters\n",
    "num_classes = 10  # MNIST total classes (0-9 digits)\n",
    "dropout = 0.75  # dropout (probability to keep units)"
   ]
  },
  {
   "cell_type": "code",
   "execution_count": 186,
   "metadata": {
    "collapsed": false
   },
   "outputs": [],
   "source": [
    "weights={\n",
    "    'layer1': tf.Variable(tf.random_normal([5,5,1,32])),\n",
    "    'layer2': tf.Variable(tf.random_normal([5,5,32,64])),\n",
    "    'layer3': tf.Variable(tf.random_normal([3,3,64,128])),\n",
    "    \n",
    "    'layer4': tf.Variable(tf.random_normal([4*4*128,1024])),\n",
    "    'layer5': tf.Variable(tf.random_normal([1024,num_classes]))\n",
    "}\n",
    "\n",
    "biases={\n",
    "    'layer1': tf.Variable(tf.random_normal([32])),\n",
    "    'layer2': tf.Variable(tf.random_normal([64])),\n",
    "    'layer3': tf.Variable(tf.random_normal([128])),\n",
    "    'layer4': tf.Variable(tf.random_normal([1024])),\n",
    "    'layer5': tf.Variable(tf.random_normal([num_classes]))\n",
    "}"
   ]
  },
  {
   "cell_type": "code",
   "execution_count": 187,
   "metadata": {
    "collapsed": true
   },
   "outputs": [],
   "source": [
    "# Define Convolutional Layer Function\n",
    "\n",
    "def conv2d(x,W,b,strides=1):\n",
    "    x=tf.nn.conv2d(x,W,strides=[1,strides,strides,1],padding='SAME')\n",
    "    x=tf.nn.bias_add(x,b)\n",
    "    return tf.nn.relu(x)"
   ]
  },
  {
   "cell_type": "code",
   "execution_count": 188,
   "metadata": {
    "collapsed": true
   },
   "outputs": [],
   "source": [
    "# Define Max Pooling Layer Function ( k is kernel size )\n",
    "\n",
    "def maxpool2d(x, k=2):\n",
    "    return tf.nn.max_pool(\n",
    "        x,\n",
    "        ksize=[1, k, k, 1],\n",
    "        strides=[1, k, k, 1],\n",
    "        padding='SAME')"
   ]
  },
  {
   "cell_type": "code",
   "execution_count": 189,
   "metadata": {
    "collapsed": true
   },
   "outputs": [],
   "source": [
    "# Define MODEL\n",
    "\n",
    "def conv_net(x,weights,biases, dropout):\n",
    "    # Layer 1\n",
    "    conv1=conv2d(x,weights['layer1'],biases['layer1'])\n",
    "    conv1=maxpool2d(conv1,k=2)\n",
    "    \n",
    "    # layer 2 \n",
    "    conv2=conv2d(conv1, weights['layer2'], biases['layer2'])\n",
    "    conv2=maxpool2d(conv2, k=2)\n",
    "    \n",
    "    # layer 3\n",
    "    conv3=conv2d(conv2,weights['layer3'],biases['layer3'])\n",
    "    conv3=maxpool2d(conv3,k=2)\n",
    "    #Fully Connected Layer\n",
    "    fc1=tf.reshape(conv3,[-1,weights['layer4'].get_shape().as_list()[0]])\n",
    "    fc1=tf.add(tf.matmul(fc1,weights['layer4']),biases['layer4'])\n",
    "    fc1=tf.nn.relu(fc1)\n",
    "    fc1=tf.nn.dropout(fc1,dropout)\n",
    "    \n",
    "    #Output layer\n",
    "    out=tf.add(tf.matmul(fc1,weights['layer5']),biases['layer5'])\n",
    "    return out"
   ]
  },
  {
   "cell_type": "code",
   "execution_count": 190,
   "metadata": {
    "collapsed": false
   },
   "outputs": [],
   "source": [
    "x=tf.placeholder(tf.float32,[None,28,28,1])\n",
    "y=tf.placeholder(tf.float32,[None,num_classes])\n",
    "keep_prob=tf.placeholder(tf.float32)\n",
    "\n",
    "logits=conv_net(x=x,weights=weights,biases=biases,dropout=keep_prob)\n",
    "\n",
    "\n",
    "\n",
    "cost=tf.reduce_mean(tf.nn.softmax_cross_entropy_with_logits(logits=logits,labels=y))\n",
    "optimizer=tf.train.GradientDescentOptimizer(learning_rate=learning_rate).minimize(cost)\n",
    "accuracy=tf.equal(tf.argmax(logits,axis=1),tf.argmax(y,axis=1))\n",
    "\n"
   ]
  },
  {
   "cell_type": "code",
   "execution_count": 191,
   "metadata": {
    "collapsed": false
   },
   "outputs": [
    {
     "name": "stdout",
     "output_type": "stream",
     "text": [
      "794.568\n",
      "14\n",
      "448.596\n",
      "16\n",
      "385.965\n",
      "8\n",
      "344.798\n",
      "13\n",
      "353.435\n",
      "9\n",
      "285.655\n",
      "9\n",
      "278.774\n",
      "10\n",
      "238.553\n",
      "13\n",
      "273.908\n",
      "9\n",
      "213.654\n",
      "19\n",
      "Accuracy on 10,000 samples 956\n"
     ]
    }
   ],
   "source": [
    "with tf.Session() as sess:\n",
    "    \n",
    "    sess.run(tf.global_variables_initializer())\n",
    "    \n",
    "    for epoch in range(epochs):\n",
    "        for batch in range(mnist.train.num_examples//batch_size):\n",
    "            batch_x,batch_y=mnist.train.next_batch(batch_size)\n",
    "            costtoprint=sess.run(cost,feed_dict={x:batch_x, y:batch_y, keep_prob:dropout})\n",
    "            sess.run(optimizer,feed_dict={x:batch_x, y:batch_y, keep_prob:dropout})\n",
    "            accuracytoprint=sum(sess.run(accuracy,feed_dict={x:batch_x, y:batch_y, keep_prob:dropout}))\n",
    "        print(costtoprint),print(accuracytoprint)\n",
    "    \n",
    "    accuracy_full=sum(sess.run(accuracy,feed_dict={x:testdata, y:testlabels, keep_prob:dropout}))\n",
    "    print('Accuracy on 10,000 samples',accuracy_full)\n",
    "        "
   ]
  },
  {
   "cell_type": "code",
   "execution_count": null,
   "metadata": {
    "collapsed": true
   },
   "outputs": [],
   "source": []
  },
  {
   "cell_type": "code",
   "execution_count": null,
   "metadata": {
    "collapsed": true
   },
   "outputs": [],
   "source": []
  },
  {
   "cell_type": "markdown",
   "metadata": {},
   "source": [
    "#### "
   ]
  }
 ],
 "metadata": {
  "kernelspec": {
   "display_name": "Python 3",
   "language": "python",
   "name": "python3"
  },
  "language_info": {
   "codemirror_mode": {
    "name": "ipython",
    "version": 3
   },
   "file_extension": ".py",
   "mimetype": "text/x-python",
   "name": "python",
   "nbconvert_exporter": "python",
   "pygments_lexer": "ipython3",
   "version": "3.6.0"
  }
 },
 "nbformat": 4,
 "nbformat_minor": 2
}
