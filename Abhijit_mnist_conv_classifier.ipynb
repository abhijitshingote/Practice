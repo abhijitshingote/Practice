{
 "cells": [
  {
   "cell_type": "code",
   "execution_count": 59,
   "metadata": {
    "collapsed": false
   },
   "outputs": [],
   "source": [
    "from keras import Sequential\n",
    "from keras.layers import Conv2D,Dropout,MaxPooling2D,Conv1D,MaxPooling1D,Flatten,Dense\n",
    "from keras.datasets import mnist\n",
    "from keras.utils import to_categorical\n",
    "from keras.callbacks import ModelCheckpoint\n",
    "from matplotlib import pyplot as plt\n",
    "%matplotlib inline"
   ]
  },
  {
   "cell_type": "code",
   "execution_count": 60,
   "metadata": {
    "collapsed": true
   },
   "outputs": [],
   "source": [
    "(X_train,y_train),(X_test,y_test)=mnist.load_data()"
   ]
  },
  {
   "cell_type": "code",
   "execution_count": 61,
   "metadata": {
    "collapsed": false
   },
   "outputs": [
    {
     "data": {
      "text/plain": [
       "(60000, 28, 28)"
      ]
     },
     "execution_count": 61,
     "metadata": {},
     "output_type": "execute_result"
    }
   ],
   "source": [
    "X_train.shape"
   ]
  },
  {
   "cell_type": "code",
   "execution_count": 62,
   "metadata": {
    "collapsed": false
   },
   "outputs": [],
   "source": [
    "X_train,X_test=X_train/255,X_test/255\n",
    "y_train,y_test=to_categorical(y_train,num_classes=len(set(y_train))),to_categorical(y_test,num_classes=len(set(y_train)))"
   ]
  },
  {
   "cell_type": "code",
   "execution_count": 63,
   "metadata": {
    "collapsed": true
   },
   "outputs": [],
   "source": [
    "X_train,X_valid=X_train[:-5000],X_train[-5000:]\n",
    "y_train,y_valid=y_train[:-5000],y_train[-5000:]"
   ]
  },
  {
   "cell_type": "code",
   "execution_count": 64,
   "metadata": {
    "collapsed": false
   },
   "outputs": [
    {
     "name": "stdout",
     "output_type": "stream",
     "text": [
      "_________________________________________________________________\n",
      "Layer (type)                 Output Shape              Param #   \n",
      "=================================================================\n",
      "conv1d_14 (Conv1D)           (None, 28, 10)            570       \n",
      "_________________________________________________________________\n",
      "max_pooling1d_13 (MaxPooling (None, 14, 10)            0         \n",
      "_________________________________________________________________\n",
      "conv1d_15 (Conv1D)           (None, 14, 20)            420       \n",
      "_________________________________________________________________\n",
      "max_pooling1d_14 (MaxPooling (None, 7, 20)             0         \n",
      "_________________________________________________________________\n",
      "flatten_6 (Flatten)          (None, 140)               0         \n",
      "_________________________________________________________________\n",
      "dense_7 (Dense)              (None, 50)                7050      \n",
      "_________________________________________________________________\n",
      "dropout_4 (Dropout)          (None, 50)                0         \n",
      "_________________________________________________________________\n",
      "dense_8 (Dense)              (None, 10)                510       \n",
      "=================================================================\n",
      "Total params: 8,550\n",
      "Trainable params: 8,550\n",
      "Non-trainable params: 0\n",
      "_________________________________________________________________\n"
     ]
    }
   ],
   "source": [
    "model=Sequential()\n",
    "model.add(Conv1D(filters=10,kernel_size=2,padding='same',activation='relu',input_shape=X_train.shape[1:]))\n",
    "model.add(MaxPooling1D(pool_size=2))\n",
    "model.add(Conv1D(filters=20,kernel_size=2,padding='same',activation='relu'))\n",
    "model.add(MaxPooling1D(pool_size=2))\n",
    "model.add(Flatten())\n",
    "model.add(Dense(50,activation='relu'))\n",
    "model.add(Dropout(0.2))\n",
    "model.add(Dense(10,activation='softmax'))\n",
    "model.summary()"
   ]
  },
  {
   "cell_type": "code",
   "execution_count": 65,
   "metadata": {
    "collapsed": true
   },
   "outputs": [],
   "source": [
    "model.compile(loss='categorical_crossentropy',optimizer='adam',metrics=['accuracy'])"
   ]
  },
  {
   "cell_type": "code",
   "execution_count": 66,
   "metadata": {
    "collapsed": false
   },
   "outputs": [
    {
     "name": "stdout",
     "output_type": "stream",
     "text": [
      "Train on 55000 samples, validate on 5000 samples\n",
      "Epoch 1/20\n",
      "Epoch 00001: val_loss improved from inf to 0.19338, saving model to conv_mnist.weights.best.hdf5\n",
      " - 3s - loss: 0.6518 - acc: 0.8023 - val_loss: 0.1934 - val_acc: 0.9418\n",
      "Epoch 2/20\n",
      "Epoch 00002: val_loss improved from 0.19338 to 0.14427, saving model to conv_mnist.weights.best.hdf5\n",
      " - 2s - loss: 0.2676 - acc: 0.9194 - val_loss: 0.1443 - val_acc: 0.9554\n",
      "Epoch 3/20\n",
      "Epoch 00003: val_loss improved from 0.14427 to 0.11139, saving model to conv_mnist.weights.best.hdf5\n",
      " - 2s - loss: 0.2110 - acc: 0.9366 - val_loss: 0.1114 - val_acc: 0.9666\n",
      "Epoch 4/20\n",
      "Epoch 00004: val_loss improved from 0.11139 to 0.10115, saving model to conv_mnist.weights.best.hdf5\n",
      " - 3s - loss: 0.1774 - acc: 0.9467 - val_loss: 0.1012 - val_acc: 0.9712\n",
      "Epoch 5/20\n",
      "Epoch 00005: val_loss improved from 0.10115 to 0.08984, saving model to conv_mnist.weights.best.hdf5\n",
      " - 2s - loss: 0.1539 - acc: 0.9530 - val_loss: 0.0898 - val_acc: 0.9738\n",
      "Epoch 6/20\n",
      "Epoch 00006: val_loss improved from 0.08984 to 0.08609, saving model to conv_mnist.weights.best.hdf5\n",
      " - 2s - loss: 0.1378 - acc: 0.9581 - val_loss: 0.0861 - val_acc: 0.9738\n",
      "Epoch 7/20\n",
      "Epoch 00007: val_loss improved from 0.08609 to 0.07656, saving model to conv_mnist.weights.best.hdf5\n",
      " - 2s - loss: 0.1250 - acc: 0.9623 - val_loss: 0.0766 - val_acc: 0.9776\n",
      "Epoch 8/20\n",
      "Epoch 00008: val_loss improved from 0.07656 to 0.07164, saving model to conv_mnist.weights.best.hdf5\n",
      " - 3s - loss: 0.1168 - acc: 0.9646 - val_loss: 0.0716 - val_acc: 0.9780\n",
      "Epoch 9/20\n",
      "Epoch 00009: val_loss improved from 0.07164 to 0.06679, saving model to conv_mnist.weights.best.hdf5\n",
      " - 3s - loss: 0.1100 - acc: 0.9665 - val_loss: 0.0668 - val_acc: 0.9802\n",
      "Epoch 10/20\n",
      "Epoch 00010: val_loss improved from 0.06679 to 0.06515, saving model to conv_mnist.weights.best.hdf5\n",
      " - 3s - loss: 0.1058 - acc: 0.9686 - val_loss: 0.0651 - val_acc: 0.9812\n",
      "Epoch 11/20\n",
      "Epoch 00011: val_loss did not improve\n",
      " - 2s - loss: 0.0991 - acc: 0.9690 - val_loss: 0.0724 - val_acc: 0.9782\n",
      "Epoch 12/20\n",
      "Epoch 00012: val_loss improved from 0.06515 to 0.06078, saving model to conv_mnist.weights.best.hdf5\n",
      " - 2s - loss: 0.0929 - acc: 0.9714 - val_loss: 0.0608 - val_acc: 0.9812\n",
      "Epoch 13/20\n",
      "Epoch 00013: val_loss did not improve\n",
      " - 3s - loss: 0.0912 - acc: 0.9723 - val_loss: 0.0681 - val_acc: 0.9796\n",
      "Epoch 14/20\n",
      "Epoch 00014: val_loss did not improve\n",
      " - 2s - loss: 0.0879 - acc: 0.9724 - val_loss: 0.0639 - val_acc: 0.9834\n",
      "Epoch 15/20\n",
      "Epoch 00015: val_loss improved from 0.06078 to 0.05927, saving model to conv_mnist.weights.best.hdf5\n",
      " - 2s - loss: 0.0848 - acc: 0.9734 - val_loss: 0.0593 - val_acc: 0.9828\n",
      "Epoch 16/20\n",
      "Epoch 00016: val_loss did not improve\n",
      " - 2s - loss: 0.0809 - acc: 0.9748 - val_loss: 0.0598 - val_acc: 0.9830\n",
      "Epoch 17/20\n",
      "Epoch 00017: val_loss did not improve\n",
      " - 3s - loss: 0.0786 - acc: 0.9754 - val_loss: 0.0622 - val_acc: 0.9818\n",
      "Epoch 18/20\n",
      "Epoch 00018: val_loss improved from 0.05927 to 0.05923, saving model to conv_mnist.weights.best.hdf5\n",
      " - 2s - loss: 0.0766 - acc: 0.9763 - val_loss: 0.0592 - val_acc: 0.9842\n",
      "Epoch 19/20\n",
      "Epoch 00019: val_loss improved from 0.05923 to 0.05791, saving model to conv_mnist.weights.best.hdf5\n",
      " - 3s - loss: 0.0753 - acc: 0.9762 - val_loss: 0.0579 - val_acc: 0.9826\n",
      "Epoch 20/20\n",
      "Epoch 00020: val_loss improved from 0.05791 to 0.05696, saving model to conv_mnist.weights.best.hdf5\n",
      " - 2s - loss: 0.0726 - acc: 0.9773 - val_loss: 0.0570 - val_acc: 0.9828\n"
     ]
    },
    {
     "data": {
      "text/plain": [
       "<keras.callbacks.History at 0x11b7a2fd0>"
      ]
     },
     "execution_count": 66,
     "metadata": {},
     "output_type": "execute_result"
    }
   ],
   "source": [
    "checkpointer=ModelCheckpoint(save_best_only=True,filepath='conv_mnist.weights.best.hdf5',verbose=1)\n",
    "\n",
    "model.fit(X_train,y_train,batch_size=100,callbacks=[checkpointer],\n",
    "              epochs=20,shuffle=True,validation_data=(X_valid,y_valid),verbose=2)"
   ]
  },
  {
   "cell_type": "code",
   "execution_count": 67,
   "metadata": {
    "collapsed": true
   },
   "outputs": [],
   "source": [
    "model.load_weights('conv_mnist.weights.best.hdf5')"
   ]
  },
  {
   "cell_type": "code",
   "execution_count": 68,
   "metadata": {
    "collapsed": false
   },
   "outputs": [
    {
     "name": "stdout",
     "output_type": "stream",
     "text": [
      "10000/10000 [==============================] - 0s 38us/step\b\b\b\b\b\b\b\b\b\b\b\b\b\b\b\b\b\b\b\b\b\b\b\b\b\b\b\b\b\b\b\b\b\b\b\b\b\b\b\b\b\b\b\b\b\b\b\b\b\b\b\b\b\b\b\b\b\b\b\b\b\b\b\b\b\b\b\b\b\b\b\b\b\b\b\b\b\b\b\b\b\b\b\b\b\b\b\b\b\b\b\b\b\b\b\b\b\b\b\b\b\b\b\b\b\b\b\b\b\b\b\b\b\b\b\b\b\b\b\b\b\b\b\b\b\b\b\b\b\b\b\b\b\b\b\b\b\b\b\b\b\b\b\b\b\b\b\b\b\b\b\b\b\b\b\b\b\b\b\b\b\b\b\b\b\b\b\b\b\b\b\b\b\b\b\b\b\b\b\b\b\b\b\b\b\b\b\b\b\b\b\b\b\b\b\b\b\b\b\b\b\b\b\b\b\b\b\b\b\b\b\b\b\b\b\b\b\b\b\b\b\b\b\b\b\b\b\b\b\b\b\b\b\b\b\b\b\b\b\b\b\b\b\b\b\b\b\b\b\b\b\b\b\b\b\b\b\b\b\b\b\b\b\b\b\b\b\b\b\b\b\b\b\b\b\b\b\b\b\b\b\b\b\b\b\b\b\b\b\b\b\b\b\b\b\b\b\b\b\b\b\b\b\b\b\b\b\b\b\b\b\b\b\b\b\b\b\b\b\b\b\b\b\b\b\b\b\b\b\b\b\b\b\b\b\b\b\b\b\b\b\b\b\b\b\b\b\b\b\b\b\b\b\b\b\b\b\b\b\b\b\b\b\b\b\b\b\b\b\b\b\b\b\b\b\b\b\b\b\b\b\b\b\b\b\b\b\b\b\b\b\b\b\b\b\b\b\b\b\b\b\b\b\b\b\b\b\b\b\b\b\b\b\b\b\b\b\b\b\b\b\b\b\b\b\b\b\n"
     ]
    },
    {
     "data": {
      "text/plain": [
       "0.98160000000000003"
      ]
     },
     "execution_count": 68,
     "metadata": {},
     "output_type": "execute_result"
    }
   ],
   "source": [
    "score=model.evaluate(X_test,y_test)\n",
    "score[1]"
   ]
  }
 ],
 "metadata": {
  "kernelspec": {
   "display_name": "Python 3",
   "language": "python",
   "name": "python3"
  },
  "language_info": {
   "codemirror_mode": {
    "name": "ipython",
    "version": 3
   },
   "file_extension": ".py",
   "mimetype": "text/x-python",
   "name": "python",
   "nbconvert_exporter": "python",
   "pygments_lexer": "ipython3",
   "version": "3.6.0"
  }
 },
 "nbformat": 4,
 "nbformat_minor": 2
}
